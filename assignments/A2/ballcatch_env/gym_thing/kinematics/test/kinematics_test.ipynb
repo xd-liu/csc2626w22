{
 "cells": [
  {
   "cell_type": "code",
   "execution_count": 1,
   "metadata": {},
   "outputs": [],
   "source": [
    "import gym\n",
    "import gym_thing\n",
    "import math\n",
    "import gym_thing.kinematics.kinematics as K\n",
    "from pyquaternion import Quaternion\n",
    "import numpy as np\n",
    "import json"
   ]
  },
  {
   "cell_type": "code",
   "execution_count": null,
   "metadata": {},
   "outputs": [],
   "source": [
    "def forward_base(theta):\n",
    "    T_odom2rb = np.array([\n",
    "        [math.cos(theta[8]), -math.sin(theta[8]), 0, theta[6]],\n",
    "        [math.sin(theta[8]), math.cos(theta[8]), 0, theta[7]],\n",
    "        [0, 0, 1, 0],\n",
    "        [0, 0, 0, 1]\n",
    "    ])\n",
    "    T_rb2arch = np.array([\n",
    "        [1, 0, 0, 0.27 ],\n",
    "        [0, 1, 0, 0.01 ],\n",
    "        [0, 0, 1, 0.653],\n",
    "        [0, 0, 0, 1]\n",
    "    ])\n",
    "    return T_odom2rb.dot(T_rb2arch)\n",
    "\n",
    "def get_pos_rot(env, name):\n",
    "    sim_pos = env.sim.data.get_body_xpos(name)\n",
    "    sim_quat = env.sim.data.get_body_xquat(name)\n",
    "    q = Quaternion(sim_quat)\n",
    "    print(sim_pos)\n",
    "    print(q.rotation_matrix)\n",
    "    return sim_pos, q.rotation_matrix"
   ]
  },
  {
   "cell_type": "code",
   "execution_count": null,
   "metadata": {},
   "outputs": [],
   "source": [
    "env = gym.make('thing-v0')\n",
    "env.reset()\n",
    "theta = env.get_obs()[:8].tolist() + [0]\n",
    "env.render()"
   ]
  },
  {
   "cell_type": "code",
   "execution_count": null,
   "metadata": {},
   "outputs": [],
   "source": [
    "print(K.forward_kinematics_odom2tcp(theta))"
   ]
  },
  {
   "cell_type": "code",
   "execution_count": null,
   "metadata": {},
   "outputs": [],
   "source": [
    "pos, rot = get_pos_rot(env, 'thing_tool')"
   ]
  },
  {
   "cell_type": "code",
   "execution_count": 16,
   "metadata": {},
   "outputs": [],
   "source": [
    "def reprocess_json(input_json, output_file):\n",
    "    result = []\n",
    "    with open(input_json, 'r') as fid:\n",
    "        j = json.load(fid)\n",
    "    for element in j:\n",
    "        entry = {}\n",
    "        config = element['config']\n",
    "        entry['ur10_states'] = config[:6]\n",
    "        entry['base_states'] = config[6:]\n",
    "        T = np.reshape(element['matrix'], (3, 4))\n",
    "        entry['tcp_states'] = [T[0, 3], T[1, 3], T[2, 3]]\n",
    "        entry['tcp_z_axis'] = [T[0, 1], T[1, 1], T[2, 1]]\n",
    "        result.append(entry)\n",
    "    output = {}\n",
    "    output['number'] = len(result)\n",
    "    output['data'] = result\n",
    "    \n",
    "    with open(output_file, 'w') as fid:\n",
    "        json.dump(output, fid, indent=4)"
   ]
  },
  {
   "cell_type": "code",
   "execution_count": 17,
   "metadata": {},
   "outputs": [],
   "source": [
    "reprocess_json('forward_kinematics_samples.json', 'forward_kinematics_calibration.json')"
   ]
  },
  {
   "cell_type": "code",
   "execution_count": null,
   "metadata": {},
   "outputs": [],
   "source": []
  }
 ],
 "metadata": {
  "kernelspec": {
   "display_name": "Python 3.6.9 64-bit ('torch1_3': conda)",
   "language": "python",
   "name": "python36964bittorch13condabe29c49340c34d3eb9558b3100efd549"
  },
  "language_info": {
   "codemirror_mode": {
    "name": "ipython",
    "version": 3
   },
   "file_extension": ".py",
   "mimetype": "text/x-python",
   "name": "python",
   "nbconvert_exporter": "python",
   "pygments_lexer": "ipython3",
   "version": "3.6.9"
  }
 },
 "nbformat": 4,
 "nbformat_minor": 2
}
