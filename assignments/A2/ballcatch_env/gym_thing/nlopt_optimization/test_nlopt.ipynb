{
 "cells": [
  {
   "cell_type": "code",
   "execution_count": 1,
   "metadata": {
    "pycharm": {
     "is_executing": false
    }
   },
   "outputs": [],
   "source": [
    "import nlopt\n",
    "import sys\n",
    "import numpy as np\n",
    "from pprint import pprint\n",
    "import time"
   ]
  },
  {
   "cell_type": "code",
   "execution_count": 2,
   "metadata": {
    "pycharm": {
     "is_executing": false
    }
   },
   "outputs": [],
   "source": [
    "import importlib\n",
    "import nlopt_functions as F\n",
    "import nlopt_optimizer as O\n",
    "import utility as U\n",
    "import gym_thing.kinematics.kinematics as K\n",
    "from utility import State1D, BallStateCoeff, PhysicalLimits"
   ]
  },
  {
   "cell_type": "code",
   "execution_count": 3,
   "metadata": {
    "pycharm": {
     "is_executing": false
    }
   },
   "outputs": [],
   "source": [
    "nlopt_func = F.NloptFunctions()"
   ]
  },
  {
   "cell_type": "code",
   "execution_count": 4,
   "metadata": {
    "pycharm": {
     "is_executing": false
    }
   },
   "outputs": [],
   "source": [
    "ball_state = BallStateCoeff()\n",
    "nlopt_data = nlopt_func.nlopt_data\n",
    "nlopt_data.finite_difference = 1e-4"
   ]
  },
  {
   "cell_type": "code",
   "execution_count": 5,
   "metadata": {
    "pycharm": {
     "is_executing": false
    }
   },
   "outputs": [],
   "source": [
    "ur10_pos = [0.0, 1.5, 0.5, 2.1, 3.3, -0.6]\n",
    "base_pos = [0.0, 0.5, 1.2]"
   ]
  },
  {
   "cell_type": "code",
   "execution_count": 6,
   "metadata": {
    "pycharm": {
     "is_executing": false
    }
   },
   "outputs": [],
   "source": [
    "for i in range(6):\n",
    "    nlopt_func.nlopt_data.current_ur10_state[i].pos = ur10_pos[i]\n",
    "for i in range(3):\n",
    "    nlopt_func.nlopt_data.current_base_state[i].pos = base_pos[i]\n",
    "nlopt_data.cost_weight_params = [1.0, 5.0]"
   ]
  },
  {
   "cell_type": "code",
   "execution_count": 7,
   "metadata": {
    "pycharm": {
     "is_executing": false
    }
   },
   "outputs": [],
   "source": [
    "nlopt_data.base_limits.pmin = [-3, -3, -3.1415]\n",
    "nlopt_data.base_limits.pmax = [3, 3, 3.1415]\n",
    "nlopt_data.base_limits.vmin = [-0.4, -0.4, -0.5]\n",
    "nlopt_data.base_limits.vmax = [0.4, 0.4, 0.5]\n",
    "nlopt_data.base_limits.amin = [-2.5, -2.5, -1.0]\n",
    "nlopt_data.base_limits.amax = [2.5, 2.5, 1.0]"
   ]
  },
  {
   "cell_type": "code",
   "execution_count": 8,
   "metadata": {
    "pycharm": {
     "is_executing": false
    }
   },
   "outputs": [],
   "source": [
    "nlopt_data.ur10_limits.pmin = [-6.2830, -6.2830, -6.2830, -6.2830, -6.2830, -6.2830]\n",
    "nlopt_data.ur10_limits.pmax = [6.2830, 6.2830, 6.2830, 6.2830, 6.2830, 6.2830]\n",
    "nlopt_data.ur10_limits.vmin = [-1.0, -1.0, -1.0, -1.5, -1.5, -2.7]\n",
    "nlopt_data.ur10_limits.vmax = [1.0, 1.0, 1.0, 1.5, 1.5, 2.7]\n",
    "nlopt_data.ur10_limits.amin = [-8, -8, -8, -8, -8, -8]\n",
    "nlopt_data.ur10_limits.amax = [8, 8, 8, 8, 8, 8]"
   ]
  },
  {
   "cell_type": "code",
   "execution_count": 9,
   "metadata": {
    "pycharm": {
     "is_executing": false
    }
   },
   "outputs": [
    {
     "name": "stdout",
     "output_type": "stream",
     "text": [
      "[3, 3, 3.1415]\n",
      "[6.283, 6.283, 6.283, 6.283, 6.283, 6.283]\n",
      "2.1\n"
     ]
    }
   ],
   "source": [
    "print(nlopt_func.nlopt_data.base_limits.pmax)\n",
    "print(nlopt_func.nlopt_data.ur10_limits.pmax)\n",
    "print(nlopt_func.nlopt_data.current_ur10_state[3].pos)"
   ]
  },
  {
   "cell_type": "markdown",
   "metadata": {},
   "source": [
    "Check for cost functions"
   ]
  },
  {
   "cell_type": "code",
   "execution_count": 10,
   "metadata": {
    "pycharm": {
     "is_executing": false
    }
   },
   "outputs": [
    {
     "name": "stdout",
     "output_type": "stream",
     "text": [
      "2.1033333333333335\n",
      "[ 0.          0.26666667  0.23333333 -0.53333333 -0.06666667  0.56666667\n",
      "  3.          1.          0.        ]\n"
     ]
    }
   ],
   "source": [
    "x = [0.0, 2.3, 1.2, 0.5, 3.1, 1.1, 0.6, 0.7, 2]\n",
    "grad = np.array([0.0] * 9)\n",
    "cost = nlopt_func.nlopt_cost(x, grad)\n",
    "print(cost) # expect to be 2.1033333\n",
    "print(grad) # expects 0\t0.266667\t0.233333\t-0.533333\t-0.0666667\t0.566667\t3\t1\t0"
   ]
  },
  {
   "cell_type": "markdown",
   "metadata": {},
   "source": [
    "Check for inequality constraints"
   ]
  },
  {
   "cell_type": "code",
   "execution_count": 11,
   "metadata": {
    "pycharm": {
     "is_executing": false
    }
   },
   "outputs": [
    {
     "name": "stdout",
     "output_type": "stream",
     "text": [
      "array([-1.9375    , -1.9375    , -1.9375    , -2.859375  , -2.859375  ,\n",
      "       -4.944375  , -0.768     , -0.768     ,  0.75271051])\n",
      "array([[ 0.00000000e+00,  0.00000000e+00,  0.00000000e+00,\n",
      "         0.00000000e+00,  0.00000000e+00,  0.00000000e+00,\n",
      "         0.00000000e+00,  0.00000000e+00, -1.00000000e+00],\n",
      "       [ 0.00000000e+00,  0.00000000e+00,  0.00000000e+00,\n",
      "         0.00000000e+00,  0.00000000e+00,  0.00000000e+00,\n",
      "         0.00000000e+00,  0.00000000e+00, -1.00000000e+00],\n",
      "       [ 0.00000000e+00,  0.00000000e+00,  0.00000000e+00,\n",
      "         0.00000000e+00,  0.00000000e+00,  0.00000000e+00,\n",
      "         0.00000000e+00,  0.00000000e+00, -1.00000000e+00],\n",
      "       [ 0.00000000e+00,  0.00000000e+00,  0.00000000e+00,\n",
      "         2.22044605e-12,  0.00000000e+00,  0.00000000e+00,\n",
      "         0.00000000e+00,  0.00000000e+00, -1.50000000e+00],\n",
      "       [ 0.00000000e+00,  0.00000000e+00,  0.00000000e+00,\n",
      "         0.00000000e+00,  2.22044605e-12,  0.00000000e+00,\n",
      "         0.00000000e+00,  0.00000000e+00, -1.50000000e+00],\n",
      "       [ 0.00000000e+00,  0.00000000e+00,  0.00000000e+00,\n",
      "         0.00000000e+00,  0.00000000e+00,  0.00000000e+00,\n",
      "         0.00000000e+00,  0.00000000e+00, -2.70000000e+00],\n",
      "       [ 0.00000000e+00,  0.00000000e+00,  0.00000000e+00,\n",
      "         0.00000000e+00,  0.00000000e+00,  0.00000000e+00,\n",
      "         0.00000000e+00,  0.00000000e+00, -4.00000000e-01],\n",
      "       [ 0.00000000e+00,  0.00000000e+00,  0.00000000e+00,\n",
      "         0.00000000e+00,  0.00000000e+00,  0.00000000e+00,\n",
      "         0.00000000e+00,  0.00000000e+00, -4.00000000e-01],\n",
      "       [ 0.00000000e+00, -5.94841369e-02, -1.02775304e-01,\n",
      "         1.35385530e-01,  3.80227856e-01,  1.93315182e-03,\n",
      "         0.00000000e+00,  0.00000000e+00,  0.00000000e+00]])\n"
     ]
    }
   ],
   "source": [
    "inequality_constraints = np.array([0.0] * 9)\n",
    "x = [0.0, 1.5, 0.5, 2.1, 3.3, -0.6, 0.0, 0.5, 2.0]\n",
    "grad = np.zeros((9, 9))\n",
    "nlopt_func.nlopt_inequality(inequality_constraints, x, grad)\n",
    "pprint(inequality_constraints)\n",
    "pprint(grad.reshape(9, -1))"
   ]
  },
  {
   "cell_type": "markdown",
   "metadata": {},
   "source": [
    "Check for overall nlopt functions"
   ]
  },
  {
   "cell_type": "code",
   "execution_count": 12,
   "metadata": {
    "pycharm": {
     "is_executing": false
    }
   },
   "outputs": [],
   "source": [
    "#importlib.reload(O)\n",
    "config_pth = 'config/nlopt_config.json'\n",
    "nlopt_optimizer = O.NloptOptimizer(config_pth)"
   ]
  },
  {
   "cell_type": "code",
   "execution_count": 13,
   "metadata": {
    "pycharm": {
     "is_executing": false
    }
   },
   "outputs": [
    {
     "name": "stdout",
     "output_type": "stream",
     "text": [
      "0.001\n",
      "[1 5]\n",
      "[1 5]\n"
     ]
    }
   ],
   "source": [
    "print(nlopt_optimizer._nlopt_stop_equality_res)\n",
    "print(nlopt_optimizer._cost_weight)\n",
    "print(nlopt_optimizer._nlopt_functions.nlopt_data.cost_weight_params)"
   ]
  },
  {
   "cell_type": "code",
   "execution_count": 14,
   "metadata": {
    "pycharm": {
     "is_executing": false
    }
   },
   "outputs": [],
   "source": [
    "ur10_pos = [0.0015, -1.947, -2.12, -0.958, -1.5429, 1.570]\n",
    "base_pos = [-1, -1, 0.0]"
   ]
  },
  {
   "cell_type": "code",
   "execution_count": 15,
   "metadata": {
    "pycharm": {
     "is_executing": false
    }
   },
   "outputs": [],
   "source": [
    "opt_var = F.OptimizationVariables()"
   ]
  },
  {
   "cell_type": "code",
   "execution_count": 16,
   "metadata": {
    "pycharm": {
     "is_executing": false
    }
   },
   "outputs": [],
   "source": [
    "ball_state = opt_var.current_ball_state\n",
    "ball_state.current_time = 1568520554.795440912\n",
    "ball_state.position = [1.592427, 1.476639, 1.53148]\n",
    "ball_state.velocity = [-2.09319, -3.50855, 5.174291]\n",
    "ball_state.xcoeff = [0.0, -2.3200, 1.97166]\n",
    "ball_state.ycoeff = [0.0, -3.4127, 2.056580]\n",
    "ball_state.zcoeff = [-4.905, 6.166956, 0.628093]\n",
    "ball_state.coeff_start_time = 1568520554.63"
   ]
  },
  {
   "cell_type": "code",
   "execution_count": 17,
   "metadata": {
    "pycharm": {
     "is_executing": false
    }
   },
   "outputs": [],
   "source": [
    "for i in range(6):\n",
    "    opt_var.current_ur10_state[i].pos = ur10_pos[i]\n",
    "for i in range(3):\n",
    "    opt_var.current_base_state[i].pos = base_pos[i]"
   ]
  },
  {
   "cell_type": "code",
   "execution_count": 18,
   "metadata": {
    "pycharm": {
     "is_executing": false
    }
   },
   "outputs": [],
   "source": [
    "nlopt_data.current_ball_state = ball_state\n",
    "nlopt_data.current_ur10_state = opt_var.current_ur10_state\n",
    "nlopt_data.current_base_state = opt_var.current_base_state"
   ]
  },
  {
   "cell_type": "code",
   "execution_count": 19,
   "metadata": {
    "pycharm": {
     "is_executing": false
    }
   },
   "outputs": [
    {
     "name": "stdout",
     "output_type": "stream",
     "text": [
      "[1.5791785257153714, 0.7447808647745398]\n"
     ]
    }
   ],
   "source": [
    "importlib.reload(F)\n",
    "results = [0.0, 0.0]\n",
    "x = [0.0015, -1.947, -2.12, -0.958, -1.5429, 1.570, -1, -1, 0.5]\n",
    "nlopt_func.nlopt_equality_helper(results, x)\n",
    "print(results)"
   ]
  },
  {
   "cell_type": "code",
   "execution_count": 20,
   "metadata": {
    "pycharm": {
     "is_executing": false
    },
    "scrolled": true
   },
   "outputs": [
    {
     "name": "stdout",
     "output_type": "stream",
     "text": [
      "True\n",
      "running tme 0.1689\n"
     ]
    }
   ],
   "source": [
    "start_time = time.time()\n",
    "print(nlopt_optimizer.start_optimization(opt_var))\n",
    "end = time.time()\n",
    "print(\"running tme %.4f\" % (end - start_time))"
   ]
  },
  {
   "cell_type": "code",
   "execution_count": 21,
   "metadata": {
    "pycharm": {
     "is_executing": false
    }
   },
   "outputs": [
    {
     "name": "stdout",
     "output_type": "stream",
     "text": [
      "[-1.20565263 -1.65524265 -1.59604102 -0.98175982 -2.20965014  1.56534155\n",
      " -1.06346656 -1.06208548  0.87834853]\n"
     ]
    }
   ],
   "source": [
    "sol = nlopt_optimizer.get_solution()\n",
    "print(sol)"
   ]
  },
  {
   "cell_type": "code",
   "execution_count": 22,
   "metadata": {
    "pycharm": {
     "is_executing": false
    }
   },
   "outputs": [
    {
     "name": "stdout",
     "output_type": "stream",
     "text": [
      "position distance\t angle distance\n",
      "[0.0008590188242590783, 5.312792044898096e-05]\n"
     ]
    }
   ],
   "source": [
    "nlopt_func.nlopt_equality_helper(results, sol)\n",
    "print(\"position distance\\t angle distance\")\n",
    "print(results)"
   ]
  },
  {
   "cell_type": "code",
   "execution_count": null,
   "metadata": {
    "pycharm": {
     "is_executing": false
    }
   },
   "outputs": [],
   "source": []
  }
 ],
 "metadata": {
  "kernelspec": {
   "display_name": "Python 3",
   "language": "python",
   "name": "python3"
  },
  "language_info": {
   "codemirror_mode": {
    "name": "ipython",
    "version": 3
   },
   "file_extension": ".py",
   "mimetype": "text/x-python",
   "name": "python",
   "nbconvert_exporter": "python",
   "pygments_lexer": "ipython3",
   "version": "3.6.9"
  }
 },
 "nbformat": 4,
 "nbformat_minor": 2
}
